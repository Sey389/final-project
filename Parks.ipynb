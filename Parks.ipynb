{
 "cells": [
  {
   "cell_type": "markdown",
   "metadata": {},
   "source": [
    "# The neighborhood with the most parks in Pittsburgh"
   ]
  },
  {
   "cell_type": "markdown",
   "metadata": {},
   "source": [
    "To support are argument to find the greenest neighborhood in Pittsburgh, one aspect that contains a lot of green elements are parks, So I will display a repersentation with which neighborhood has the most parks in Pittsburgh. What is your guess? You will havde to wait to find out."
   ]
  },
  {
   "cell_type": "markdown",
   "metadata": {},
   "source": [
    "![GIF](https://media.giphy.com/media/lFemKoVyp90I50wJFB/giphy.gif)"
   ]
  },
  {
   "cell_type": "code",
   "execution_count": 2,
   "metadata": {},
   "outputs": [],
   "source": [
    "# importing pandas and geopandas\n",
    "import pandas as pd\n",
    "import numpy as np\n",
    "%matplotlib inline\n",
    "import matplotlib.pyplot as plt\n",
    "import geopandas\n"
   ]
  },
  {
   "cell_type": "markdown",
   "metadata": {},
   "source": [
    "In order to open and visualize the dataset firstly we need to read the file."
   ]
  },
  {
   "cell_type": "code",
   "execution_count": 3,
   "metadata": {},
   "outputs": [],
   "source": [
    "# Reading the file\n",
    "parks = pd.read_csv(\"parks.csv\")\n",
    "\n"
   ]
  },
  {
   "cell_type": "code",
   "execution_count": 4,
   "metadata": {},
   "outputs": [
    {
     "data": {
      "text/html": [
       "<div>\n",
       "<style scoped>\n",
       "    .dataframe tbody tr th:only-of-type {\n",
       "        vertical-align: middle;\n",
       "    }\n",
       "\n",
       "    .dataframe tbody tr th {\n",
       "        vertical-align: top;\n",
       "    }\n",
       "\n",
       "    .dataframe thead th {\n",
       "        text-align: right;\n",
       "    }\n",
       "</style>\n",
       "<table border=\"1\" class=\"dataframe\">\n",
       "  <thead>\n",
       "    <tr style=\"text-align: right;\">\n",
       "      <th></th>\n",
       "      <th>id</th>\n",
       "      <th>name</th>\n",
       "      <th>type</th>\n",
       "      <th>maintenance_responsibility</th>\n",
       "      <th>image</th>\n",
       "      <th>neighborhood</th>\n",
       "      <th>council_district</th>\n",
       "      <th>ward</th>\n",
       "      <th>tract</th>\n",
       "      <th>public_works_division</th>\n",
       "      <th>pli_division</th>\n",
       "      <th>police_zone</th>\n",
       "      <th>fire_zone</th>\n",
       "      <th>latitude</th>\n",
       "      <th>longitude</th>\n",
       "    </tr>\n",
       "  </thead>\n",
       "  <tbody>\n",
       "    <tr>\n",
       "      <th>0</th>\n",
       "      <td>2111959181</td>\n",
       "      <td>Able Long Park</td>\n",
       "      <td>Park</td>\n",
       "      <td>Parks - Southern</td>\n",
       "      <td>https://tools.wprdc.org/images/pittsburgh/park...</td>\n",
       "      <td>Beechview</td>\n",
       "      <td>4</td>\n",
       "      <td>19</td>\n",
       "      <td>42003192000</td>\n",
       "      <td>5</td>\n",
       "      <td>19</td>\n",
       "      <td>6</td>\n",
       "      <td>4-28</td>\n",
       "      <td>40.408118</td>\n",
       "      <td>-80.028197</td>\n",
       "    </tr>\n",
       "    <tr>\n",
       "      <th>1</th>\n",
       "      <td>1109513049</td>\n",
       "      <td>Albert Turk Graham Park</td>\n",
       "      <td>Park</td>\n",
       "      <td>Parks - Schenley</td>\n",
       "      <td>https://tools.wprdc.org/images/pittsburgh/park...</td>\n",
       "      <td>Crawford-Roberts</td>\n",
       "      <td>6</td>\n",
       "      <td>3</td>\n",
       "      <td>42003030500</td>\n",
       "      <td>3</td>\n",
       "      <td>3</td>\n",
       "      <td>2</td>\n",
       "      <td>2-1</td>\n",
       "      <td>40.440507</td>\n",
       "      <td>-79.984018</td>\n",
       "    </tr>\n",
       "    <tr>\n",
       "      <th>2</th>\n",
       "      <td>1544096765</td>\n",
       "      <td>Alcoa Park</td>\n",
       "      <td>Park</td>\n",
       "      <td>Parks - Northern</td>\n",
       "      <td>NaN</td>\n",
       "      <td>North Shore</td>\n",
       "      <td>1</td>\n",
       "      <td>22</td>\n",
       "      <td>42003563200</td>\n",
       "      <td>6</td>\n",
       "      <td>22</td>\n",
       "      <td>1</td>\n",
       "      <td>1-20</td>\n",
       "      <td>40.447481</td>\n",
       "      <td>-80.001017</td>\n",
       "    </tr>\n",
       "    <tr>\n",
       "      <th>3</th>\n",
       "      <td>1212681573</td>\n",
       "      <td>Allegheny Commons</td>\n",
       "      <td>Park</td>\n",
       "      <td>Parks - Northern</td>\n",
       "      <td>NaN</td>\n",
       "      <td>Allegheny Center</td>\n",
       "      <td>1</td>\n",
       "      <td>22</td>\n",
       "      <td>42003562700</td>\n",
       "      <td>1</td>\n",
       "      <td>22</td>\n",
       "      <td>1</td>\n",
       "      <td>1-7</td>\n",
       "      <td>40.453126</td>\n",
       "      <td>-80.009158</td>\n",
       "    </tr>\n",
       "    <tr>\n",
       "      <th>4</th>\n",
       "      <td>954863286</td>\n",
       "      <td>Allegheny Landing Park</td>\n",
       "      <td>Park</td>\n",
       "      <td>Parks - Northern</td>\n",
       "      <td>NaN</td>\n",
       "      <td>North Shore</td>\n",
       "      <td>1</td>\n",
       "      <td>22</td>\n",
       "      <td>42003563200</td>\n",
       "      <td>6</td>\n",
       "      <td>22</td>\n",
       "      <td>1</td>\n",
       "      <td>1-20</td>\n",
       "      <td>40.447184</td>\n",
       "      <td>-80.002907</td>\n",
       "    </tr>\n",
       "    <tr>\n",
       "      <th>5</th>\n",
       "      <td>223959093</td>\n",
       "      <td>Allegheny Riverfront Park</td>\n",
       "      <td>Park</td>\n",
       "      <td>Parks - Northern</td>\n",
       "      <td>NaN</td>\n",
       "      <td>Central Business District</td>\n",
       "      <td>6</td>\n",
       "      <td>2</td>\n",
       "      <td>42003020100</td>\n",
       "      <td>6</td>\n",
       "      <td>2</td>\n",
       "      <td>2</td>\n",
       "      <td>1-3</td>\n",
       "      <td>40.444591</td>\n",
       "      <td>-80.002416</td>\n",
       "    </tr>\n",
       "    <tr>\n",
       "      <th>6</th>\n",
       "      <td>1596467340</td>\n",
       "      <td>Alpine Gardens Park</td>\n",
       "      <td>Park</td>\n",
       "      <td>Parks - Northern</td>\n",
       "      <td>https://tools.wprdc.org/images/pittsburgh/park...</td>\n",
       "      <td>Central Northside</td>\n",
       "      <td>6</td>\n",
       "      <td>25</td>\n",
       "      <td>42003250300</td>\n",
       "      <td>1</td>\n",
       "      <td>25</td>\n",
       "      <td>1</td>\n",
       "      <td>1-21</td>\n",
       "      <td>40.457673</td>\n",
       "      <td>-80.012852</td>\n",
       "    </tr>\n",
       "    <tr>\n",
       "      <th>7</th>\n",
       "      <td>1829922263</td>\n",
       "      <td>Alton Park</td>\n",
       "      <td>Park</td>\n",
       "      <td>Parks - Southern</td>\n",
       "      <td>NaN</td>\n",
       "      <td>Beechview</td>\n",
       "      <td>4</td>\n",
       "      <td>19</td>\n",
       "      <td>42003191600</td>\n",
       "      <td>5</td>\n",
       "      <td>19</td>\n",
       "      <td>6</td>\n",
       "      <td>4-28</td>\n",
       "      <td>40.414580</td>\n",
       "      <td>-80.021855</td>\n",
       "    </tr>\n",
       "    <tr>\n",
       "      <th>8</th>\n",
       "      <td>2049886968</td>\n",
       "      <td>Amber Triangle</td>\n",
       "      <td>Traffic Island/Median</td>\n",
       "      <td>2nd Division</td>\n",
       "      <td>NaN</td>\n",
       "      <td>East Liberty</td>\n",
       "      <td>7</td>\n",
       "      <td>8</td>\n",
       "      <td>42003111500</td>\n",
       "      <td>2</td>\n",
       "      <td>8</td>\n",
       "      <td>5</td>\n",
       "      <td>3-23</td>\n",
       "      <td>40.459099</td>\n",
       "      <td>-79.931846</td>\n",
       "    </tr>\n",
       "    <tr>\n",
       "      <th>9</th>\n",
       "      <td>1047118140</td>\n",
       "      <td>Ammon Park</td>\n",
       "      <td>Park</td>\n",
       "      <td>Parks - Schenley</td>\n",
       "      <td>NaN</td>\n",
       "      <td>Bedford Dwellings</td>\n",
       "      <td>6</td>\n",
       "      <td>5</td>\n",
       "      <td>42003050900</td>\n",
       "      <td>3</td>\n",
       "      <td>5</td>\n",
       "      <td>2</td>\n",
       "      <td>2-5</td>\n",
       "      <td>40.449526</td>\n",
       "      <td>-79.978247</td>\n",
       "    </tr>\n",
       "  </tbody>\n",
       "</table>\n",
       "</div>"
      ],
      "text/plain": [
       "           id                       name                   type  \\\n",
       "0  2111959181             Able Long Park                   Park   \n",
       "1  1109513049    Albert Turk Graham Park                   Park   \n",
       "2  1544096765                 Alcoa Park                   Park   \n",
       "3  1212681573          Allegheny Commons                   Park   \n",
       "4   954863286     Allegheny Landing Park                   Park   \n",
       "5   223959093  Allegheny Riverfront Park                   Park   \n",
       "6  1596467340        Alpine Gardens Park                   Park   \n",
       "7  1829922263                 Alton Park                   Park   \n",
       "8  2049886968             Amber Triangle  Traffic Island/Median   \n",
       "9  1047118140                 Ammon Park                   Park   \n",
       "\n",
       "  maintenance_responsibility  \\\n",
       "0           Parks - Southern   \n",
       "1           Parks - Schenley   \n",
       "2           Parks - Northern   \n",
       "3           Parks - Northern   \n",
       "4           Parks - Northern   \n",
       "5           Parks - Northern   \n",
       "6           Parks - Northern   \n",
       "7           Parks - Southern   \n",
       "8               2nd Division   \n",
       "9           Parks - Schenley   \n",
       "\n",
       "                                               image  \\\n",
       "0  https://tools.wprdc.org/images/pittsburgh/park...   \n",
       "1  https://tools.wprdc.org/images/pittsburgh/park...   \n",
       "2                                                NaN   \n",
       "3                                                NaN   \n",
       "4                                                NaN   \n",
       "5                                                NaN   \n",
       "6  https://tools.wprdc.org/images/pittsburgh/park...   \n",
       "7                                                NaN   \n",
       "8                                                NaN   \n",
       "9                                                NaN   \n",
       "\n",
       "                neighborhood  council_district  ward        tract  \\\n",
       "0                  Beechview                 4    19  42003192000   \n",
       "1           Crawford-Roberts                 6     3  42003030500   \n",
       "2                North Shore                 1    22  42003563200   \n",
       "3           Allegheny Center                 1    22  42003562700   \n",
       "4                North Shore                 1    22  42003563200   \n",
       "5  Central Business District                 6     2  42003020100   \n",
       "6          Central Northside                 6    25  42003250300   \n",
       "7                  Beechview                 4    19  42003191600   \n",
       "8               East Liberty                 7     8  42003111500   \n",
       "9          Bedford Dwellings                 6     5  42003050900   \n",
       "\n",
       "   public_works_division  pli_division  police_zone fire_zone   latitude  \\\n",
       "0                      5            19            6      4-28  40.408118   \n",
       "1                      3             3            2       2-1  40.440507   \n",
       "2                      6            22            1      1-20  40.447481   \n",
       "3                      1            22            1       1-7  40.453126   \n",
       "4                      6            22            1      1-20  40.447184   \n",
       "5                      6             2            2       1-3  40.444591   \n",
       "6                      1            25            1      1-21  40.457673   \n",
       "7                      5            19            6      4-28  40.414580   \n",
       "8                      2             8            5      3-23  40.459099   \n",
       "9                      3             5            2       2-5  40.449526   \n",
       "\n",
       "   longitude  \n",
       "0 -80.028197  \n",
       "1 -79.984018  \n",
       "2 -80.001017  \n",
       "3 -80.009158  \n",
       "4 -80.002907  \n",
       "5 -80.002416  \n",
       "6 -80.012852  \n",
       "7 -80.021855  \n",
       "8 -79.931846  \n",
       "9 -79.978247  "
      ]
     },
     "execution_count": 4,
     "metadata": {},
     "output_type": "execute_result"
    }
   ],
   "source": [
    "# Printing out the fist 10 rows of the parks dataset\n",
    "parks.head(10)"
   ]
  },
  {
   "cell_type": "markdown",
   "metadata": {},
   "source": [
    "Shown above is all the columns of the dataset and contains other city buildings besides parks, so I need to delete the uneccessary columns and buildings that are not parks."
   ]
  },
  {
   "cell_type": "code",
   "execution_count": 6,
   "metadata": {},
   "outputs": [],
   "source": [
    "# Dropping unneccessary columns and showing only parks\n",
    "parks_revised = parks.drop([\"id\", \"type\", \"maintenance_responsibility\", \"image\", \"council_district\", \"ward\", \"tract\", \"public_works_division\", \"pli_division\", \"police_zone\", \"fire_zone\", \"latitude\", \"longitude\"], axis=1)\n",
    "parks_revised = parks_revised.query('name.str.contains(\"Park\")')"
   ]
  },
  {
   "cell_type": "markdown",
   "metadata": {},
   "source": [
    "Now we have a neccesary dataset that I can work with, shown below are the first ten rows of the revised dataset."
   ]
  },
  {
   "cell_type": "code",
   "execution_count": 7,
   "metadata": {},
   "outputs": [
    {
     "data": {
      "text/html": [
       "<div>\n",
       "<style scoped>\n",
       "    .dataframe tbody tr th:only-of-type {\n",
       "        vertical-align: middle;\n",
       "    }\n",
       "\n",
       "    .dataframe tbody tr th {\n",
       "        vertical-align: top;\n",
       "    }\n",
       "\n",
       "    .dataframe thead th {\n",
       "        text-align: right;\n",
       "    }\n",
       "</style>\n",
       "<table border=\"1\" class=\"dataframe\">\n",
       "  <thead>\n",
       "    <tr style=\"text-align: right;\">\n",
       "      <th></th>\n",
       "      <th>name</th>\n",
       "      <th>neighborhood</th>\n",
       "    </tr>\n",
       "  </thead>\n",
       "  <tbody>\n",
       "    <tr>\n",
       "      <th>0</th>\n",
       "      <td>Able Long Park</td>\n",
       "      <td>Beechview</td>\n",
       "    </tr>\n",
       "    <tr>\n",
       "      <th>1</th>\n",
       "      <td>Albert Turk Graham Park</td>\n",
       "      <td>Crawford-Roberts</td>\n",
       "    </tr>\n",
       "    <tr>\n",
       "      <th>2</th>\n",
       "      <td>Alcoa Park</td>\n",
       "      <td>North Shore</td>\n",
       "    </tr>\n",
       "    <tr>\n",
       "      <th>4</th>\n",
       "      <td>Allegheny Landing Park</td>\n",
       "      <td>North Shore</td>\n",
       "    </tr>\n",
       "    <tr>\n",
       "      <th>5</th>\n",
       "      <td>Allegheny Riverfront Park</td>\n",
       "      <td>Central Business District</td>\n",
       "    </tr>\n",
       "    <tr>\n",
       "      <th>6</th>\n",
       "      <td>Alpine Gardens Park</td>\n",
       "      <td>Central Northside</td>\n",
       "    </tr>\n",
       "    <tr>\n",
       "      <th>7</th>\n",
       "      <td>Alton Park</td>\n",
       "      <td>Beechview</td>\n",
       "    </tr>\n",
       "    <tr>\n",
       "      <th>9</th>\n",
       "      <td>Ammon Park</td>\n",
       "      <td>Bedford Dwellings</td>\n",
       "    </tr>\n",
       "    <tr>\n",
       "      <th>10</th>\n",
       "      <td>Arlington Park</td>\n",
       "      <td>South Side Slopes</td>\n",
       "    </tr>\n",
       "    <tr>\n",
       "      <th>12</th>\n",
       "      <td>Armstrong Park</td>\n",
       "      <td>South Side Flats</td>\n",
       "    </tr>\n",
       "  </tbody>\n",
       "</table>\n",
       "</div>"
      ],
      "text/plain": [
       "                         name               neighborhood\n",
       "0              Able Long Park                  Beechview\n",
       "1     Albert Turk Graham Park           Crawford-Roberts\n",
       "2                  Alcoa Park                North Shore\n",
       "4      Allegheny Landing Park                North Shore\n",
       "5   Allegheny Riverfront Park  Central Business District\n",
       "6         Alpine Gardens Park          Central Northside\n",
       "7                  Alton Park                  Beechview\n",
       "9                  Ammon Park          Bedford Dwellings\n",
       "10             Arlington Park          South Side Slopes\n",
       "12             Armstrong Park           South Side Flats"
      ]
     },
     "execution_count": 7,
     "metadata": {},
     "output_type": "execute_result"
    }
   ],
   "source": [
    "# Printing the first 10 rows of the revised dataset\n",
    "parks_revised.head(10)"
   ]
  },
  {
   "cell_type": "markdown",
   "metadata": {},
   "source": [
    "Now we have the proper data I need, I will show the top 10 neighborhoods which contain the most parks in Pittsburgh."
   ]
  },
  {
   "cell_type": "code",
   "execution_count": 33,
   "metadata": {},
   "outputs": [
    {
     "data": {
      "text/plain": [
       "Beechview                    6\n",
       "South Side Slopes            6\n",
       "Troy Hill                    5\n",
       "Hazelwood                    5\n",
       "Mount Washington             5\n",
       "Central Business District    5\n",
       "South Side Flats             4\n",
       "Marshall-Shadeland           4\n",
       "Sheraden                     4\n",
       "Elliott                      4\n",
       "Name: neighborhood, dtype: int64"
      ]
     },
     "execution_count": 33,
     "metadata": {},
     "output_type": "execute_result"
    }
   ],
   "source": [
    "#Showing the top 10 neighborhoods in Pittsburgh that contain the most parks.\n",
    "parks_revised['neighborhood'].value_counts().sort_values(ascending = False)[:10]"
   ]
  },
  {
   "cell_type": "markdown",
   "metadata": {},
   "source": [
    "So clearly the neighbhorhood with the most parks in Pittsbrugh is a tie between Beechview and South Side Slopes. now let's visualize the data."
   ]
  },
  {
   "cell_type": "code",
   "execution_count": 44,
   "metadata": {},
   "outputs": [
    {
     "data": {
      "text/plain": [
       "Text(0, 0.5, 'parks')"
      ]
     },
     "execution_count": 44,
     "metadata": {},
     "output_type": "execute_result"
    },
    {
     "data": {
      "image/png": "[encoded data removed]",
      "text/plain": [
       "<Figure size 640x480 with 1 Axes>"
      ]
     },
     "metadata": {},
     "output_type": "display_data"
    }
   ],
   "source": [
    "parks_revised['neighborhood'].value_counts().sort_values(ascending = False)[:10].plot.bar()\n",
    "plt.style.use('classic')\n",
    "plt.title('Parks in pittsburgh neighborhoods')\n",
    "plt.xlabel('neighborhoods')\n",
    "plt.ylabel('parks')\n"
   ]
  },
  {
   "cell_type": "markdown",
   "metadata": {},
   "source": [
    "So now we know the two neighborhoods with the most parks are South Side slopes and Beechview, let's visualize just those two neighborhoods."
   ]
  },
  {
   "cell_type": "code",
   "execution_count": 45,
   "metadata": {},
   "outputs": [
    {
     "data": {
      "text/plain": [
       "Text(0, 0.5, 'parks')"
      ]
     },
     "execution_count": 45,
     "metadata": {},
     "output_type": "execute_result"
    },
    {
     "data": {
      "image/png": "[encoded data removed]",
      "text/plain": [
       "<Figure size 640x480 with 1 Axes>"
      ]
     },
     "metadata": {},
     "output_type": "display_data"
    }
   ],
   "source": [
    "# visualizing the two neighborhoods that are tied with the most parks with a bar graph\n",
    "parks_revised['neighborhood'].value_counts().sort_values(ascending = False)[:2].plot.bar()\n",
    "# bar graph style\n",
    "plt.style.use('classic')\n",
    "# bar graph title\n",
    "plt.title('Parks in pittsburgh neighborhoods')\n",
    "# x axis label\n",
    "plt.xlabel('neighborhoods')\n",
    "# y axis label\n",
    "plt.ylabel('parks')\n"
   ]
  },
  {
   "cell_type": "markdown",
   "metadata": {},
   "source": [
    "Now we know the neighborhoods with the most parks in Pittsburgh is tied between Beechview and South Side Slopes, both tied with 6 parks."
   ]
  },
  {
   "cell_type": "code",
   "execution_count": null,
   "metadata": {},
   "outputs": [],
   "source": []
  }
 ],
 "metadata": {
  "kernelspec": {
   "display_name": "Python 3",
   "language": "python",
   "name": "python3"
  },
  "language_info": {
   "codemirror_mode": {
    "name": "ipython",
    "version": 3
   },
   "file_extension": ".py",
   "mimetype": "text/x-python",
   "name": "python",
   "nbconvert_exporter": "python",
   "pygments_lexer": "ipython3",
   "version": "3.8.3"
  }
 },
 "nbformat": 4,
 "nbformat_minor": 4
}

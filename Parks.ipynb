{
 "cells": [
  {
   "cell_type": "code",
   "execution_count": null,
   "metadata": {},
   "outputs": [],
   "source": [
    "import pandas as pd\n",
    "import numpy as np\n",
    "%matplotlib inline\n",
    "import matplotlib.pyplot as plt\n",
    "import geopandas\n",
    "parks = pd.read_csv(\"parks.csv\")\n",
    "parks_revised = parks.drop([\"id\", \"type\", \"maintenance_responsibility\", \"image\", \"council_district\", \"ward\", \"tract\", \"public_works_division\", \"pli_division\", \"police_zone\", \"fire_zone\", \"latitude\", \"longitude\"], axis=1)\n",
    "parks_revised = parks_revised.query('name.str.contains(\"Park\")')\n",
    "\n",
    "pitt_parks = parks_revised[\"neighborhood\"].value_counts()\n",
    "pitt_parks.head()"
   ]
  }
 ],
 "metadata": {
  "kernelspec": {
   "display_name": "Python 3",
   "language": "python",
   "name": "python3"
  },
  "language_info": {
   "codemirror_mode": {
    "name": "ipython",
    "version": 3
   },
   "file_extension": ".py",
   "mimetype": "text/x-python",
   "name": "python",
   "nbconvert_exporter": "python",
   "pygments_lexer": "ipython3",
   "version": "3.8.3"
  }
 },
 "nbformat": 4,
 "nbformat_minor": 4
}
